{
 "cells": [
  {
   "cell_type": "code",
   "execution_count": 48,
   "metadata": {},
   "outputs": [],
   "source": [
    "# Library Import\n",
    "\n",
    "import pandas as pd\n",
    "import numpy as np\n",
    "import requests\n",
    "import os\n",
    "import datetime as dt\n",
    "import requests\n",
    "import json\n",
    "import io\n",
    "\n",
    "# Set Program Parameters\n",
    "\n",
    "days_previous = 7"
   ]
  },
  {
   "cell_type": "code",
   "execution_count": 2,
   "metadata": {},
   "outputs": [],
   "source": [
    "# I have already gathered existing Wind (Forecast & Actual), Demand , Interconnection data. Portal currently allows \n",
    "# user to gather data up to 2 months in the past.\n",
    "\n",
    "# merge the dataframes\n",
    "\n",
    "merged_df = pd.read_csv(\"system_demand.csv\", parse_dates = ['DATE & TIME'])\n",
    "\n",
    "work_dir = os.getcwd()\n",
    "\n",
    "for file in os.listdir(work_dir):\n",
    "    if file.endswith(\"tion.csv\"):\n",
    "        df = pd.read_csv(file, parse_dates = ['DATE & TIME'])\n",
    "        merged_df = pd.merge(merged_df, df, how = 'left', on = ['DATE & TIME'])\n",
    "        \n",
    "# Drop & rename irrelevant columns\n",
    "\n",
    "merged_df = merged_df.drop([' FORECAST DEMAND(MW)', ' REGION_x', ' NET TOTAL(MW)', ' REGION_y'], axis = 1)\n",
    "cols = merged_df.columns.to_list()\n",
    "merged_df = merged_df.rename(columns = {cols[0]: 'date_time_bst', cols[1]: 'demand_mw', cols[2]: 'ewic_mw', \n",
    "                                        cols[3]: 'moyle_mw',cols[4]: 'generation_mw', cols[5]: 'forecast_wind_mw',\n",
    "                                        cols[6]: 'actual_wind_mw', cols[7]: 'region'})\n",
    "\n",
    "merged_df.to_excel('combined_eirgrid_data.xlsx', index = False)"
   ]
  },
  {
   "cell_type": "code",
   "execution_count": 49,
   "metadata": {},
   "outputs": [],
   "source": [
    "def get_data(start_day, fund_name):\n",
    "    \"\"\"\n",
    "    Enables user to download data from the portal.\n",
    "    Requires two arguments 'start_day' (int): specifies how far back the user wants to start collecting data\n",
    "                          'fund_name' (str): specifies the fundamental to be gathered i.e. demandActual, generationActual,\n",
    "                                             windActual or interconnection\n",
    "    \"\"\"\n",
    "    today = dt.date.today()\n",
    "    start_date = today - dt.timedelta(days = start_day)\n",
    "    start_date = dt.datetime.strftime(start_date, \"%d-%b-%Y\")\n",
    "    end_date = today - dt.timedelta(days = 1)\n",
    "    end_date = dt.datetime.strftime(end_date, \"%d-%b-%Y\")\n",
    "    \n",
    "    eirgrid_url = \"http://smartgriddashboard.eirgrid.com/DashboardService.svc/csv?area=\"+fund_name+\"&region=ALL&datefrom=\"+start_date+\"%2000:00&dateto=\"+end_date+\"%2023:59\"\n",
    "    \n",
    "    try:\n",
    "        r = requests.get(eirgrid_url)\n",
    "    except Exception as e:\n",
    "        print(\"Error acquiring data: %s\", str(e))\n",
    "        return\n",
    "    \n",
    "    return r.content"
   ]
  },
  {
   "cell_type": "code",
   "execution_count": 50,
   "metadata": {},
   "outputs": [],
   "source": [
    "def process_data(fund_name):\n",
    "    \"\"\"\n",
    "    Output from get_data function is passed.\n",
    "    Processes the data into a dataframe, an appropriate format for efficient storage\n",
    "    Requires one argument: 'fund_name' (str): specifies the fundamental to be gathered i.e. demandActual, \n",
    "                                              generationActual, windActual or interconnection\n",
    "    \"\"\"\n",
    "        \n",
    "    data = get_data(days_previous, fund_name)\n",
    "    data = pd.read_csv(io.StringIO(data.decode('utf-8')))\n",
    "    data['DATE & TIME'] = data['DATE & TIME'].apply(lambda x: dt.datetime.strptime(x, '%d %B %Y %H:%M'))\n",
    "    return data"
   ]
  },
  {
   "cell_type": "code",
   "execution_count": 56,
   "metadata": {},
   "outputs": [],
   "source": [
    "def main():\n",
    "    \"\"\"\n",
    "    Initiates the program (calls process_data and then get_data())\n",
    "    Writes each fundamental's data to the desired .csv\n",
    "    \"\"\"\n",
    "    \n",
    "    fund_list = ['demandActual', 'generationActual', 'windActual', 'interconnection']\n",
    "    \n",
    "    try:\n",
    "        for fund in fund_list:\n",
    "        \n",
    "            data = process_data(fund)\n",
    "            if fund == 'demandActual':\n",
    "                data.to_csv('system_demand.csv', mode='a', header=False, index=False)\n",
    "            elif fund == 'generationActual':\n",
    "                data.to_csv('system_generation.csv', mode='a', header=False, index=False)\n",
    "            elif fund == 'windActual':\n",
    "                data.to_csv('wind_generation.csv', mode='a', header=False, index=False)\n",
    "            elif fund == 'interconnection':\n",
    "                data.to_csv('interconnection.csv', mode='a', header=False, index=False)\n",
    "            else:\n",
    "                print('Error: Fundamental not available')\n",
    "    except Exception as e:\n",
    "        print(str(e))             "
   ]
  },
  {
   "cell_type": "code",
   "execution_count": null,
   "metadata": {},
   "outputs": [],
   "source": []
  }
 ],
 "metadata": {
  "kernelspec": {
   "display_name": "Python 3",
   "language": "python",
   "name": "python3"
  },
  "language_info": {
   "codemirror_mode": {
    "name": "ipython",
    "version": 3
   },
   "file_extension": ".py",
   "mimetype": "text/x-python",
   "name": "python",
   "nbconvert_exporter": "python",
   "pygments_lexer": "ipython3",
   "version": "3.7.3"
  }
 },
 "nbformat": 4,
 "nbformat_minor": 2
}

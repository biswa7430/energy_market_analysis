{
 "cells": [
  {
   "cell_type": "code",
   "execution_count": 2,
   "metadata": {},
   "outputs": [],
   "source": [
    "# Library Import\n",
    "\n",
    "import pandas as pd\n",
    "import numpy as np\n",
    "import requests\n",
    "import os"
   ]
  },
  {
   "cell_type": "code",
   "execution_count": 6,
   "metadata": {},
   "outputs": [],
   "source": [
    "# I have already gathered existing Wind (Forecast & Actual), Demand , Interconnection data. Portal currently allows \n",
    "# user to gather data up to 2 months in the past.\n",
    "\n",
    "# merge the dataframes\n",
    "\n",
    "merged_df = pd.read_csv(\"system_demand.csv\", parse_dates = ['DATE & TIME'])\n",
    "\n",
    "work_dir = os.getcwd()\n",
    "\n",
    "for file in os.listdir(work_dir):\n",
    "    if file.endswith(\"tion.csv\"):\n",
    "        df = pd.read_csv(file, parse_dates = ['DATE & TIME'])\n",
    "        merged_df = pd.merge(merged_df, df, how = 'left', on = ['DATE & TIME'])\n",
    "        \n",
    "# Drop & rename irrelevant columns\n",
    "\n",
    "merged_df = merged_df.drop([' FORECAST DEMAND(MW)', ' REGION_x', ' NET TOTAL(MW)', ' REGION_y'], axis = 1)\n",
    "cols = merged_df.columns.to_list()\n",
    "merged_df = merged_df.rename(columns = {cols[0]: 'date_time_bst', cols[1]: 'demand_mw', cols[2]: 'ewic_mw', \n",
    "                                        cols[3]: 'moyle_mw',cols[4]: 'generation_mw', cols[5]: 'forecast_wind_mw',\n",
    "                                        cols[6]: 'actual_wind_mw', cols[7]: 'region'})        "
   ]
  },
  {
   "cell_type": "code",
   "execution_count": null,
   "metadata": {},
   "outputs": [],
   "source": []
  }
 ],
 "metadata": {
  "kernelspec": {
   "display_name": "Python 3",
   "language": "python",
   "name": "python3"
  },
  "language_info": {
   "codemirror_mode": {
    "name": "ipython",
    "version": 3
   },
   "file_extension": ".py",
   "mimetype": "text/x-python",
   "name": "python",
   "nbconvert_exporter": "python",
   "pygments_lexer": "ipython3",
   "version": "3.7.3"
  }
 },
 "nbformat": 4,
 "nbformat_minor": 2
}
